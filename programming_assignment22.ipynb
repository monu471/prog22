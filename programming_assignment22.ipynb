{
 "cells": [
  {
   "cell_type": "code",
   "execution_count": 1,
   "id": "8bf6cec6",
   "metadata": {},
   "outputs": [],
   "source": [
    "# Create a function that takes three parameters where:\n",
    "#  x is the start of the range (inclusive).\n",
    "#  y is the end of the range (inclusive).\n",
    "#  n is the divisor to be checked against.\n",
    "# Return an ordered list with numbers in the range that are divisible by the third parameter n.\n",
    "# Return an empty list if there are no numbers that are divisible by n.\n",
    "# Examples\n",
    "# list_operation(1, 10, 3) ➞ [3, 6, 9]\n",
    "# list_operation(7, 9, 2) ➞ [8]\n",
    "# list_operation(15, 20, 7) ➞ []\n",
    "def list_operation(a,b,c):\n",
    "    x= [i for i in range(a,b+1) if i%c==0]\n",
    "    return x"
   ]
  },
  {
   "cell_type": "code",
   "execution_count": 39,
   "id": "5902fcc6",
   "metadata": {},
   "outputs": [],
   "source": [
    "# Create a function that takes in two lists and returns True if the second list follows the first list by one element, and False otherwise. In other words, determine if the second list is the first list shifted to the right by 1.\n",
    "# Examples\n",
    "# simon_says([1, 2], [5, 1]) ➞ True\n",
    "\n",
    "# simon_says([1, 2], [5, 5]) ➞ False\n",
    "\n",
    "# simon_says([1, 2, 3, 4, 5], [0, 1, 2, 3, 4]) ➞ True\n",
    "\n",
    "# simon_says([1, 2, 3, 4, 5], [5, 5, 1, 2, 3]) ➞ False\n",
    "# Notes\n",
    "# •\tBoth input lists will be of the same length, and will have a minimum length of 2.\n",
    "# •\tThe values of the 0-indexed element in the second list and the n-1th indexed element in the first list do not matter.\n",
    "\n",
    "def simon_says(k,l):\n",
    "    k.pop()\n",
    "    l.pop(0)\n",
    "    if k== l:\n",
    "        return True\n",
    "    else :\n",
    "        return False\n",
    "    \n"
   ]
  },
  {
   "cell_type": "code",
   "execution_count": 60,
   "id": "b1e00678",
   "metadata": {},
   "outputs": [],
   "source": [
    "# A group of friends have decided to start a secret society. The name will be the first letter of each of their names, sorted in alphabetical order.\n",
    "# Create a function that takes in a list of names and returns the name of the secret society.\n",
    "# Examples\n",
    "# society_name([\"Adam\", \"Sarah\", \"Malcolm\"]) ➞ \"AMS\"\n",
    "\n",
    "# society_name([\"Harry\", \"Newt\", \"Luna\", \"Cho\"]) ➞ \"CHLN\"\n",
    "\n",
    "# society_name([\"Phoebe\", \"Chandler\", \"Rachel\", \"Ross\", \"Monica\", \"Joey\"])\n",
    "def society_name(l):\n",
    "    l = sorted(l)\n",
    "    sum = \"\"\n",
    "    for i in l[0:len(l)]:\n",
    "        sum = sum+i[0]\n",
    "    return sum\n"
   ]
  },
  {
   "cell_type": "code",
   "execution_count": 76,
   "id": "995a7266",
   "metadata": {},
   "outputs": [],
   "source": [
    "# An isogram is a word that has no duplicate letters. Create a function that takes a string and returns either True or False depending on whether or not it's an \"isogram\".\n",
    "# Examples\n",
    "# is_isogram(\"Algorism\") ➞ True\n",
    "\n",
    "# is_isogram(\"PasSword\") ➞ False\n",
    "# # Not case sensitive.\n",
    "\n",
    "# is_isogram(\"Consecutive\") ➞ False\n",
    "# Notes\n",
    "# •\tIgnore letter case (should not be case sensitive).\n",
    "# •\tAll test cases contain valid one word strings.\n",
    "\n",
    "def is_isogram(s):\n",
    "    b = s.lower()\n",
    "    a = set(b)\n",
    "    if len(a) == len(s):\n",
    "        return True\n",
    "    else:\n",
    "        return False\n",
    "   \n",
    "    "
   ]
  },
  {
   "cell_type": "code",
   "execution_count": 81,
   "id": "7b566953",
   "metadata": {},
   "outputs": [],
   "source": [
    "# Question5\n",
    "# Create a function that takes a string and returns True or False, depending on whether the characters are in order or not.\n",
    "# Examples\n",
    "# is_in_order(\"abc\") ➞ True\n",
    "\n",
    "# is_in_order(\"edabit\") ➞ False\n",
    "\n",
    "# is_in_order(\"123\") ➞ True\n",
    "\n",
    "# is_in_order(\"xyzz\") ➞ True\n",
    "# Notes\n",
    "# You don't have to handle empty strings.\n",
    "\n",
    "def is_in_order(l):\n",
    "    sum = \"\"\n",
    "    for i in sorted(l):\n",
    "        sum = sum+i\n",
    "    if sum == l:\n",
    "        return True\n",
    "    else:\n",
    "        return False\n"
   ]
  },
  {
   "cell_type": "code",
   "execution_count": null,
   "id": "59b38dda",
   "metadata": {},
   "outputs": [],
   "source": []
  }
 ],
 "metadata": {
  "kernelspec": {
   "display_name": "Python 3 (ipykernel)",
   "language": "python",
   "name": "python3"
  },
  "language_info": {
   "codemirror_mode": {
    "name": "ipython",
    "version": 3
   },
   "file_extension": ".py",
   "mimetype": "text/x-python",
   "name": "python",
   "nbconvert_exporter": "python",
   "pygments_lexer": "ipython3",
   "version": "3.9.12"
  }
 },
 "nbformat": 4,
 "nbformat_minor": 5
}
